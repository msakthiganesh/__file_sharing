{
 "cells": [
  {
   "cell_type": "code",
   "execution_count": 3,
   "metadata": {},
   "outputs": [],
   "source": [
    "import pandas as pd\n",
    "import numpy as np\n",
    "from scipy.spatial.distance import cdist\n",
    "import time"
   ]
  },
  {
   "cell_type": "code",
   "execution_count": 2,
   "metadata": {},
   "outputs": [],
   "source": [
    "X_df = pd.read_csv('data/data.csv', header=None)\n",
    "y_df = pd.read_csv('data/label.csv', header=None)"
   ]
  },
  {
   "cell_type": "code",
   "execution_count": 3,
   "metadata": {},
   "outputs": [],
   "source": [
    "def euclidean_dist(X, Y):\n",
    "    return cdist(X, Y, 'euclidean')\n",
    "\n",
    "def cosine_dist(X, Y):\n",
    "    return cdist(X, Y, 'cosine')\n",
    "\n",
    "def generalized_jaccard_dist(X, Y):\n",
    "    min_sum = np.sum(np.minimum(X[:, np.newaxis], Y[np.newaxis, :]), axis=2)\n",
    "    max_sum = np.sum(np.maximum(X[:, np.newaxis], Y[np.newaxis, :]), axis=2)\n",
    "    jaccard_sim = min_sum / max_sum\n",
    "    return 1 - jaccard_sim"
   ]
  },
  {
   "cell_type": "code",
   "execution_count": 4,
   "metadata": {},
   "outputs": [],
   "source": [
    "def k_means(data, k, dist_fn, max_iter=500):\n",
    "    centroids = data.sample(n=k).values\n",
    "    last_sse = float('inf')\n",
    "    for _ in range(max_iter):\n",
    "        distances = dist_fn(data.values, centroids)\n",
    "        clusters = np.argmin(distances, axis=1)\n",
    "        sse = np.sum(np.min(distances, axis=1)**2)\n",
    "        if sse >= last_sse:\n",
    "            break\n",
    "        last_sse = sse\n",
    "        new_centroids = np.array([data.values[clusters == j].mean(axis=0) for j in range(k)])\n",
    "        if np.all(centroids == new_centroids):\n",
    "            break\n",
    "        centroids = new_centroids\n",
    "    return clusters, centroids, last_sse"
   ]
  },
  {
   "cell_type": "code",
   "execution_count": 5,
   "metadata": {},
   "outputs": [
    {
     "name": "stdout",
     "output_type": "stream",
     "text": [
      "Sum of Squared Error for Euclidean: 25683570207.98\n",
      "Sum of Squared Error for Cosine: 682.26\n",
      "Sum of Squared Error for Generalized Jaccard: 4164.18\n",
      "The most optimum algorithm based on SSE is: Cosine with an SSE of 682.26\n"
     ]
    }
   ],
   "source": [
    "k = 10\n",
    "clusters_euclidean, _, sse_euclidean = k_means(X_df, k, euclidean_dist)\n",
    "clusters_cosine, _, sse_cosine = k_means(X_df, k, cosine_dist)\n",
    "clusters_jaccard, _, sse_jaccard = k_means(X_df, k, generalized_jaccard_dist)\n",
    "print(f\"Sum of Squared Error for Euclidean: {sse_euclidean:.2f}\")\n",
    "print(f\"Sum of Squared Error for Cosine: {sse_cosine:.2f}\")\n",
    "print(f\"Sum of Squared Error for Generalized Jaccard: {sse_jaccard:.2f}\")\n",
    "best_method = min([('Euclidean', sse_euclidean), ('Cosine', sse_cosine), ('Jaccard', sse_jaccard)], key=lambda x: x[1])\n",
    "print(f\"The most optimum algorithm based on SSE is: {best_method[0]} with an SSE of {best_method[1]:.2f}\")\n"
   ]
  },
  {
   "cell_type": "code",
   "execution_count": 6,
   "metadata": {},
   "outputs": [],
   "source": [
    "def assign_clusters(clusters, gold):\n",
    "    cluster_labels = {}\n",
    "    for cluster in set(clusters):\n",
    "        labels_in_cluster = gold[clusters == cluster]\n",
    "        most_common = np.bincount(labels_in_cluster).argmax()\n",
    "        cluster_labels[cluster] = most_common\n",
    "    return cluster_labels\n",
    "\n",
    "def get_cluster_predictions(clusters, cluster_labels):\n",
    "    return np.array([cluster_labels[cluster] for cluster in clusters])\n"
   ]
  },
  {
   "cell_type": "code",
   "execution_count": 7,
   "metadata": {},
   "outputs": [],
   "source": [
    "def calculate_accuracy(predicted_labels, gold):\n",
    "    return np.mean(predicted_labels == gold)\n",
    "\n",
    "# Assuming you have the cluster results from previous steps\n",
    "gold = y_df.values.flatten()\n",
    "\n",
    "# Assign labels to each cluster\n",
    "euc_cluster = assign_clusters(clusters_euclidean, gold)\n",
    "cos_cluster = assign_clusters(clusters_cosine, gold)\n",
    "jac_cluster = assign_clusters(clusters_jaccard, gold)\n",
    "\n",
    "# Get the predicted labels for each data point\n",
    "preds_eucl = get_cluster_predictions(clusters_euclidean, euc_cluster)\n",
    "preds_cos = get_cluster_predictions(clusters_cosine, cos_cluster)\n",
    "preds_jac = get_cluster_predictions(clusters_jaccard, jac_cluster)\n",
    "\n",
    "# Calculate accuracies\n",
    "acc_euc = calculate_accuracy(preds_eucl, gold)\n",
    "acc_cos = calculate_accuracy(preds_cos, gold)\n",
    "acc_jac = calculate_accuracy(preds_jac, gold)\n"
   ]
  },
  {
   "cell_type": "code",
   "execution_count": 8,
   "metadata": {},
   "outputs": [
    {
     "name": "stdout",
     "output_type": "stream",
     "text": [
      "Accuracy using Euclidean Distance: 0.58\n",
      "Accuracy using Cosine Similarity: 0.61\n",
      "Accuracy using Jaccard: 0.50\n",
      "The best method based on accuracy is: Cosine with an accuracy of 0.61\n"
     ]
    }
   ],
   "source": [
    "print(f\"Accuracy using Euclidean Distance: {acc_euc:.2f}\")\n",
    "print(f\"Accuracy using Cosine Similarity: {acc_cos:.2f}\")\n",
    "print(f\"Accuracy using Jaccard: {acc_jac:.2f}\")\n",
    "\n",
    "best_method = max([('Euclidean', acc_euc), ('Cosine', acc_cos), ('Jaccard', acc_jac)], key=lambda x: x[1])\n",
    "print(f\"The best method based on accuracy is: {best_method[0]} with an accuracy of {best_method[1]:.2f}\")\n"
   ]
  },
  {
   "cell_type": "code",
   "execution_count": 9,
   "metadata": {},
   "outputs": [],
   "source": [
    "def k_means(data, k, distance_function, max_iter=500):\n",
    "    centroids = data.sample(n=k).values\n",
    "    last_sse = float('inf')\n",
    "    iterations = 0\n",
    "    start_time = time.time()\n",
    "    for _ in range(max_iter):\n",
    "        distances = distance_function(data.values, centroids)\n",
    "        clusters = np.argmin(distances, axis=1)\n",
    "        sse = np.sum(np.min(distances, axis=1)**2)\n",
    "        new_centroids = np.array([data.values[clusters == j].mean(axis=0) for j in range(k)])\n",
    "        if np.all(centroids == new_centroids) or sse > last_sse:\n",
    "            break\n",
    "        last_sse = sse\n",
    "        centroids = new_centroids\n",
    "        iterations += 1\n",
    "    end_time = time.time()\n",
    "    return clusters, centroids, iterations, end_time - start_time"
   ]
  },
  {
   "cell_type": "code",
   "execution_count": 10,
   "metadata": {},
   "outputs": [
    {
     "name": "stdout",
     "output_type": "stream",
     "text": [
      "Euclidean: 92 iterations, 18.11 seconds\n",
      "Cosine: 61 iterations, 15.92 seconds\n",
      "Generalized Jaccard: 1 iterations, 2.55 seconds\n",
      "Max iterations required for: Euclidean with 92 iterations\n",
      "Most time required for: Euclidean with 18.11 seconds\n"
     ]
    }
   ],
   "source": [
    "_, _, iters_euc, time_euclidean = k_means(X_df, k, euclidean_dist)\n",
    "_, _, iters_cos, time_cosine = k_means(X_df, k, cosine_dist)\n",
    "_, _, iters_jac, time_jaccard = k_means(X_df, k, generalized_jaccard_dist)\n",
    "print(f\"Euclidean: {iters_euc} iterations, {time_euclidean:.2f} seconds\")\n",
    "print(f\"Cosine: {iters_cos} iterations, {time_cosine:.2f} seconds\")\n",
    "print(f\"Generalized Jaccard: {iters_jac} iterations, {time_jaccard:.2f} seconds\")\n",
    "most_iterations = max([('Euclidean', iters_euc), ('Cosine', iters_cos), ('Jaccard', iters_jac)], key=lambda x: x[1])\n",
    "longest_time = max([('Euclidean', time_euclidean), ('Cosine', time_cosine), ('Jaccard', time_jaccard)], key=lambda x: x[1])\n",
    "print(f\"Max iterations required for: {most_iterations[0]} with {most_iterations[1]} iterations\")\n",
    "print(f\"Most time required for: {longest_time[0]} with {longest_time[1]:.2f} seconds\")"
   ]
  },
  {
   "cell_type": "code",
   "execution_count": 12,
   "metadata": {},
   "outputs": [],
   "source": [
    "def initialize_centroids(data, k):\n",
    "    return data.sample(n=k).values\n",
    "\n",
    "def assign_clusters(data, centroids, distance_function):\n",
    "    distances = distance_function(data.values, centroids)\n",
    "    return np.argmin(distances, axis=1)\n",
    "\n",
    "def update_centroids(data, clusters, k):\n",
    "    return np.array([data.values[clusters == j].mean(axis=0) for j in range(k)])\n",
    "\n",
    "def calculate_sse(data, clusters, centroids):\n",
    "    distances = np.sqrt(((data.values - centroids[clusters])**2).sum(axis=1))\n",
    "    return np.sum(distances**2)\n",
    "\n",
    "def centroids_not_changed(old_centroids, new_centroids):\n",
    "    return np.allclose(old_centroids, new_centroids, atol=1e-6)\n",
    "\n",
    "def sse_increased(sse_history):\n",
    "    return len(sse_history) > 1 and sse_history[-1] > sse_history[-2]\n",
    "\n",
    "def k_means_sse_tracking(data, k, distance_function, max_iter=100):\n",
    "    centroids = initialize_centroids(data, k)\n",
    "    sse_history = []\n",
    "    for iteration in range(max_iter):\n",
    "        clusters = assign_clusters(data, centroids, distance_function)\n",
    "        new_centroids = update_centroids(data, clusters, k)\n",
    "        sse = calculate_sse(data, clusters, centroids)\n",
    "        sse_history.append(sse)\n",
    "\n",
    "        if centroids_not_changed(centroids, new_centroids) or sse_increased(sse_history):\n",
    "            break\n",
    "        centroids = new_centroids\n",
    "    return centroids, clusters, sse_history"
   ]
  },
  {
   "cell_type": "code",
   "execution_count": 13,
   "metadata": {},
   "outputs": [
    {
     "name": "stdout",
     "output_type": "stream",
     "text": [
      "Sum of Square Error using Euclidean: 25472003422.71\n",
      "Sum of Square Error using Cosine: 25617574227.59\n",
      "Sum of Squared Error using Jaccard: 25446117809.36\n"
     ]
    }
   ],
   "source": [
    "k = 10 \n",
    "centroids_euclidean, clusters_euclidean, sse_history_euclidean = k_means_sse_tracking(X_df, k, euclidean_dist)\n",
    "centroids_cosine, clusters_cosine, sse_history_cosine = k_means_sse_tracking(X_df, k, cosine_dist)\n",
    "centroids_jaccard, clusters_jaccard, sse_history_jaccard = k_means_sse_tracking(X_df, k, generalized_jaccard_dist)\n",
    "print(f\"Sum of Square Error using Euclidean: {sse_history_euclidean[-1]:.2f}\")\n",
    "print(f\"Sum of Square Error using Cosine: {sse_history_cosine[-1]:.2f}\")\n",
    "print(f\"Sum of Squared Error using Jaccard: {sse_history_jaccard[-1]:.2f}\")"
   ]
  },
  {
   "cell_type": "code",
   "execution_count": 4,
   "metadata": {},
   "outputs": [],
   "source": [
    "data = pd.read_csv('data/data.csv', header=None)\n",
    "labels = pd.read_csv('data/label.csv', header=None)"
   ]
  },
  {
   "cell_type": "code",
   "execution_count": 5,
   "metadata": {},
   "outputs": [],
   "source": [
    "K = labels[0].nunique()\n",
    "data_np = data.values"
   ]
  },
  {
   "cell_type": "code",
   "execution_count": 6,
   "metadata": {},
   "outputs": [],
   "source": [
    "def initialize_centroids(data, k):\n",
    "    return data[np.random.choice(data.shape[0], size=k, replace=False)]"
   ]
  },
  {
   "cell_type": "code",
   "execution_count": 7,
   "metadata": {},
   "outputs": [],
   "source": [
    "def cosine_similarity(x, y):\n",
    "    dot_product = np.dot(x, y)\n",
    "    norm_x = np.linalg.norm(x)\n",
    "    norm_y = np.linalg.norm(y)\n",
    "    return 1 - (dot_product / (norm_x * norm_y))"
   ]
  },
  {
   "cell_type": "code",
   "execution_count": 8,
   "metadata": {},
   "outputs": [],
   "source": [
    "def jaccard_similarity(x, y):\n",
    "    intersection = np.sum(np.minimum(x, y))\n",
    "    union = np.sum(np.maximum(x, y))\n",
    "    return 1 - (intersection / union)"
   ]
  },
  {
   "cell_type": "code",
   "execution_count": 9,
   "metadata": {},
   "outputs": [],
   "source": [
    "def euclidean_distance(x, y):\n",
    "    return np.linalg.norm(x - y)"
   ]
  },
  {
   "cell_type": "code",
   "execution_count": 11,
   "metadata": {},
   "outputs": [],
   "source": [
    "def assign_labels(data, centroids, distance_metric):\n",
    "    if distance_metric == 'euclidean':\n",
    "        distances = np.array([[euclidean_distance(x, centroid) for centroid in centroids] for x in data])\n",
    "    elif distance_metric == 'cosine':\n",
    "        distances = np.array([[cosine_similarity(x, centroid) for centroid in centroids] for x in data])\n",
    "    elif distance_metric == 'jaccard':\n",
    "        distances = np.array([[jaccard_similarity(x, centroid) for centroid in centroids] for x in data])\n",
    "    else:\n",
    "        print('Error!')\n",
    "    return np.argmin(distances, axis=1)"
   ]
  },
  {
   "cell_type": "code",
   "execution_count": 12,
   "metadata": {},
   "outputs": [],
   "source": [
    "def update_centroids(data, labels, k):\n",
    "    new_centroids = []\n",
    "    for j in range(k):\n",
    "        cluster_data = data[labels == j]\n",
    "        if len(cluster_data) > 0:\n",
    "            new_centroids.append(cluster_data.mean(axis=0))\n",
    "        else:\n",
    "            new_centroids.append(data[np.random.choice(data.shape[0])])\n",
    "    return np.array(new_centroids)"
   ]
  },
  {
   "cell_type": "code",
   "execution_count": 13,
   "metadata": {},
   "outputs": [],
   "source": [
    "def calculate_sse(data, labels, centroids):\n",
    "    return np.sum([np.sum((data[labels == j] - centroids[j])**2) for j in range(len(centroids))])"
   ]
  },
  {
   "cell_type": "code",
   "execution_count": 14,
   "metadata": {},
   "outputs": [],
   "source": [
    "def kmeans_with_stopping_criteria(data, k, distance_metric='euclidean', max_iter=100, tol=1e-4, stopping_condition=\"no_change\"):\n",
    "    centroids = initialize_centroids(data, k)\n",
    "    sse_values = []\n",
    "    prev_sse = 0\n",
    "\n",
    "    for iteration in range(max_iter):\n",
    "        labels = assign_labels(data, centroids, distance_metric)\n",
    "        new_centroids = update_centroids(data, labels, k)\n",
    "        if stopping_condition == \"no_change\" and np.linalg.norm(new_centroids - centroids) < tol:\n",
    "            break\n",
    "        elif stopping_condition == \"sse_increase\":\n",
    "            sse = calculate_sse(data, labels, new_centroids)\n",
    "            if iteration > 0 and sse > prev_sse:\n",
    "                break\n",
    "            prev_sse = sse\n",
    "        elif stopping_condition == \"max_iterations\" and iteration == max_iter - 1:\n",
    "            break\n",
    "        centroids = new_centroids\n",
    "        sse_values.append(calculate_sse(data, labels, centroids))\n",
    "    final_sse = calculate_sse(data, labels, centroids)\n",
    "    return labels, centroids, final_sse, sse_values, iteration + 1"
   ]
  },
  {
   "cell_type": "code",
   "execution_count": 15,
   "metadata": {},
   "outputs": [],
   "source": [
    "stopping_conditions = [\"no_change\", \"sse_increase\", \"max_iterations\"]"
   ]
  },
  {
   "cell_type": "code",
   "execution_count": 17,
   "metadata": {},
   "outputs": [
    {
     "name": "stdout",
     "output_type": "stream",
     "text": [
      "\n",
      "euclidean distance | stopping condition - no_change\n",
      "Final SSE: 25413386813.55\n",
      "\n",
      "euclidean distance | stopping condition - sse_increase\n",
      "Final SSE: 25579538393.94\n",
      "\n",
      "euclidean distance | stopping condition - max_iterations\n",
      "Final SSE: 25507340826.88\n",
      "\n",
      "cosine distance | stopping condition - no_change\n",
      "Final SSE: 25613831105.84\n",
      "\n",
      "cosine distance | stopping condition - sse_increase\n",
      "Final SSE: 25428957387.51\n",
      "\n",
      "cosine distance | stopping condition - max_iterations\n",
      "Final SSE: 25413767938.71\n",
      "\n",
      "jaccard distance | stopping condition - no_change\n",
      "Final SSE: 25415999685.32\n",
      "\n",
      "jaccard distance | stopping condition - sse_increase\n",
      "Final SSE: 25439658079.21\n",
      "\n",
      "jaccard distance | stopping condition - max_iterations\n",
      "Final SSE: 25415220241.03\n"
     ]
    }
   ],
   "source": [
    "for distance_metric in ['euclidean', 'cosine', 'jaccard']:\n",
    "    for stopping_condition in stopping_conditions:\n",
    "        print(f\"\\n{distance_metric} distance | stopping condition - {stopping_condition}\")\n",
    "        labels, centroids, final_sse, sse_values, iterations = kmeans_with_stopping_criteria(data_np, K, distance_metric=distance_metric, stopping_condition=stopping_condition)\n",
    "        print(f\"Final SSE: {final_sse:.2f}\")"
   ]
  },
  {
   "cell_type": "code",
   "execution_count": null,
   "metadata": {},
   "outputs": [],
   "source": []
  }
 ],
 "metadata": {
  "kernelspec": {
   "display_name": "fnlp",
   "language": "python",
   "name": "python3"
  },
  "language_info": {
   "codemirror_mode": {
    "name": "ipython",
    "version": 3
   },
   "file_extension": ".py",
   "mimetype": "text/x-python",
   "name": "python",
   "nbconvert_exporter": "python",
   "pygments_lexer": "ipython3",
   "version": "3.9.17"
  }
 },
 "nbformat": 4,
 "nbformat_minor": 2
}
